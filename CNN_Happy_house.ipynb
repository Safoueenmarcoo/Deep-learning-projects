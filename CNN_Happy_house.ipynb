{
 "cells": [
  {
   "cell_type": "code",
   "execution_count": 1,
   "metadata": {
    "id": "MuU-RPhvflcW"
   },
   "outputs": [],
   "source": [
    "import numpy as np\n",
    "from sklearn.metrics import confusion_matrix\n",
    "import seaborn as sns\n",
    "import h5py\n",
    "from keras import layers\n",
    "from keras.layers import Input, Dense, Activation, ZeroPadding2D, BatchNormalization, Flatten, Conv2D\n",
    "from keras.layers import AveragePooling2D, MaxPooling2D, Dropout, GlobalMaxPooling2D, GlobalAveragePooling2D\n",
    "from keras.models import Model\n",
    "from keras.preprocessing import image\n",
    "from keras.applications.imagenet_utils import preprocess_input\n",
    "from keras.models import Sequential\n",
    "from keras.callbacks import EarlyStopping\n",
    "from keras.regularizers import l1\n",
    "import random\n",
    "import pydot\n",
    "from IPython.display import SVG\n",
    "import keras.backend as K\n",
    "K.set_image_data_format('channels_last')\n",
    "import matplotlib.pyplot as plt\n",
    "from matplotlib.pyplot import imshow\n",
    "from keras.preprocessing.image import ImageDataGenerator"
   ]
  },
  {
   "cell_type": "code",
   "execution_count": 2,
   "metadata": {
    "id": "4Z7gBX7YfTRL"
   },
   "outputs": [],
   "source": [
    "def load_dataset(path_to_train, path_to_test):\n",
    "    train_dataset = h5py.File(path_to_train)\n",
    "    train_x = np.array(train_dataset['train_set_x'][:])\n",
    "    train_y = np.array(train_dataset['train_set_y'][:])\n",
    "\n",
    "    test_dataset = h5py.File(path_to_test)\n",
    "    test_x = np.array(test_dataset['test_set_x'][:])\n",
    "    test_y = np.array(test_dataset['test_set_y'][:])\n",
    "\n",
    "\n",
    "    return train_x, train_y, test_x, test_y"
   ]
  },
  {
   "cell_type": "markdown",
   "metadata": {
    "id": "LF7js4UdhO0F"
   },
   "source": [
    "![Texte alternatif…](https://raw.githubusercontent.com/Kulbear/deep-learning-coursera/master/Convolutional%20Neural%20Networks/images/house-members.png)"
   ]
  },
  {
   "cell_type": "markdown",
   "metadata": {
    "id": "b2rJyahUe1ft"
   },
   "source": [
    "1) Load Dataset and normalize image vectors"
   ]
  },
  {
   "cell_type": "code",
   "execution_count": 3,
   "metadata": {
    "id": "nOZo0cNbg8ts"
   },
   "outputs": [
    {
     "name": "stdout",
     "output_type": "stream",
     "text": [
      "(600,)\n"
     ]
    }
   ],
   "source": [
    "X_train_orig, Y_train_orig, X_test_orig, Y_test_orig = load_dataset(\"train_happy.h5\",\"test_happy.h5\")\n",
    "\n",
    "print(Y_train_orig.shape)"
   ]
  },
  {
   "cell_type": "markdown",
   "metadata": {
    "id": "RIxmvgZrgtGR"
   },
   "source": [
    "2) Sample a random image and print it"
   ]
  },
  {
   "cell_type": "code",
   "execution_count": 4,
   "metadata": {},
   "outputs": [
    {
     "data": {
      "text/plain": [
       "(64, 64, 3)"
      ]
     },
     "execution_count": 4,
     "metadata": {},
     "output_type": "execute_result"
    }
   ],
   "source": [
    "rand=random.randint(0,len(X_train_orig))\n",
    "\n",
    "X_train_orig[rand].shape\n",
    "#Y_train_orig"
   ]
  },
  {
   "cell_type": "markdown",
   "metadata": {
    "id": "nkSGUejZfGwY"
   },
   "source": [
    "3) Build the model and fit it"
   ]
  },
  {
   "cell_type": "code",
   "execution_count": 5,
   "metadata": {},
   "outputs": [],
   "source": [
    "model=Sequential()\n",
    "model.add(Conv2D(32,(7,7),activation='relu',input_shape=(64, 64, 3)))\n",
    "model.add(BatchNormalization())\n",
    "model.add(MaxPooling2D(2,2))\n",
    "model.add(Flatten())\n",
    "model.add(Dense(2,activation='sigmoid'))"
   ]
  },
  {
   "cell_type": "code",
   "execution_count": 6,
   "metadata": {},
   "outputs": [
    {
     "name": "stdout",
     "output_type": "stream",
     "text": [
      "Model: \"sequential\"\n",
      "_________________________________________________________________\n",
      " Layer (type)                Output Shape              Param #   \n",
      "=================================================================\n",
      " conv2d (Conv2D)             (None, 58, 58, 32)        4736      \n",
      "                                                                 \n",
      " batch_normalization (Batch  (None, 58, 58, 32)        128       \n",
      " Normalization)                                                  \n",
      "                                                                 \n",
      " max_pooling2d (MaxPooling2  (None, 29, 29, 32)        0         \n",
      " D)                                                              \n",
      "                                                                 \n",
      " flatten (Flatten)           (None, 26912)             0         \n",
      "                                                                 \n",
      " dense (Dense)               (None, 2)                 53826     \n",
      "                                                                 \n",
      "=================================================================\n",
      "Total params: 58690 (229.26 KB)\n",
      "Trainable params: 58626 (229.01 KB)\n",
      "Non-trainable params: 64 (256.00 Byte)\n",
      "_________________________________________________________________\n"
     ]
    }
   ],
   "source": [
    "model.summary()"
   ]
  },
  {
   "cell_type": "markdown",
   "metadata": {
    "id": "J8c8a111fjio"
   },
   "source": [
    "4) Evaluate the model"
   ]
  },
  {
   "cell_type": "code",
   "execution_count": 7,
   "metadata": {
    "scrolled": true
   },
   "outputs": [
    {
     "name": "stdout",
     "output_type": "stream",
     "text": [
      "Epoch 1/40\n",
      "8/8 [==============================] - 2s 200ms/step - loss: 1.5640 - accuracy: 0.6792 - val_loss: 2.9422 - val_accuracy: 0.7417\n",
      "Epoch 2/40\n",
      "8/8 [==============================] - 1s 171ms/step - loss: 0.5846 - accuracy: 0.8396 - val_loss: 1.2982 - val_accuracy: 0.7917\n",
      "Epoch 3/40\n",
      "8/8 [==============================] - 2s 187ms/step - loss: 0.3875 - accuracy: 0.8896 - val_loss: 1.3573 - val_accuracy: 0.6667\n",
      "Epoch 4/40\n",
      "8/8 [==============================] - 1s 156ms/step - loss: 0.1677 - accuracy: 0.9375 - val_loss: 0.4090 - val_accuracy: 0.8500\n",
      "Epoch 5/40\n",
      "8/8 [==============================] - 1s 165ms/step - loss: 0.0981 - accuracy: 0.9604 - val_loss: 2.2930 - val_accuracy: 0.5667\n",
      "Epoch 6/40\n",
      "8/8 [==============================] - 1s 166ms/step - loss: 0.0541 - accuracy: 0.9833 - val_loss: 2.1231 - val_accuracy: 0.6167\n",
      "Epoch 7/40\n",
      "8/8 [==============================] - 1s 160ms/step - loss: 0.0408 - accuracy: 0.9896 - val_loss: 2.4162 - val_accuracy: 0.5333\n",
      "Epoch 8/40\n",
      "8/8 [==============================] - 1s 161ms/step - loss: 0.0273 - accuracy: 0.9917 - val_loss: 1.3603 - val_accuracy: 0.6750\n",
      "Epoch 9/40\n",
      "8/8 [==============================] - 1s 176ms/step - loss: 0.0202 - accuracy: 0.9937 - val_loss: 1.0688 - val_accuracy: 0.7000\n",
      "Epoch 10/40\n",
      "8/8 [==============================] - 1s 166ms/step - loss: 0.0156 - accuracy: 0.9979 - val_loss: 0.6503 - val_accuracy: 0.7667\n",
      "Epoch 11/40\n",
      "8/8 [==============================] - 1s 161ms/step - loss: 0.0131 - accuracy: 0.9979 - val_loss: 0.2823 - val_accuracy: 0.8917\n",
      "Epoch 12/40\n",
      "8/8 [==============================] - 1s 162ms/step - loss: 0.0147 - accuracy: 0.9979 - val_loss: 0.4361 - val_accuracy: 0.8000\n",
      "Epoch 13/40\n",
      "8/8 [==============================] - 1s 161ms/step - loss: 0.0171 - accuracy: 0.9917 - val_loss: 0.1145 - val_accuracy: 0.9500\n",
      "Epoch 14/40\n",
      "8/8 [==============================] - 1s 160ms/step - loss: 0.0253 - accuracy: 0.9937 - val_loss: 0.1692 - val_accuracy: 0.9167\n",
      "Epoch 15/40\n",
      "8/8 [==============================] - 1s 158ms/step - loss: 0.0103 - accuracy: 0.9979 - val_loss: 0.2046 - val_accuracy: 0.9000\n",
      "Epoch 16/40\n",
      "8/8 [==============================] - 1s 159ms/step - loss: 0.0120 - accuracy: 0.9979 - val_loss: 0.0480 - val_accuracy: 0.9833\n",
      "Epoch 17/40\n",
      "8/8 [==============================] - 1s 160ms/step - loss: 0.0088 - accuracy: 0.9979 - val_loss: 0.0896 - val_accuracy: 0.9500\n",
      "Epoch 18/40\n",
      "8/8 [==============================] - 1s 160ms/step - loss: 0.0095 - accuracy: 0.9958 - val_loss: 0.0555 - val_accuracy: 0.9833\n",
      "Epoch 19/40\n",
      "8/8 [==============================] - 1s 159ms/step - loss: 0.0111 - accuracy: 0.9979 - val_loss: 0.1371 - val_accuracy: 0.9333\n",
      "Epoch 20/40\n",
      "8/8 [==============================] - 1s 162ms/step - loss: 0.0062 - accuracy: 0.9979 - val_loss: 0.1940 - val_accuracy: 0.9167\n",
      "Epoch 21/40\n",
      "8/8 [==============================] - 1s 160ms/step - loss: 0.0076 - accuracy: 0.9979 - val_loss: 0.0346 - val_accuracy: 0.9917\n",
      "Epoch 22/40\n",
      "8/8 [==============================] - 1s 157ms/step - loss: 0.0111 - accuracy: 0.9979 - val_loss: 0.0508 - val_accuracy: 0.9833\n",
      "Epoch 23/40\n",
      "8/8 [==============================] - 1s 157ms/step - loss: 0.0049 - accuracy: 1.0000 - val_loss: 0.0434 - val_accuracy: 0.9833\n",
      "Epoch 24/40\n",
      "8/8 [==============================] - 1s 161ms/step - loss: 0.0048 - accuracy: 0.9979 - val_loss: 0.0656 - val_accuracy: 0.9750\n",
      "Epoch 25/40\n",
      "8/8 [==============================] - 1s 157ms/step - loss: 0.0047 - accuracy: 1.0000 - val_loss: 0.0542 - val_accuracy: 0.9833\n",
      "Epoch 26/40\n",
      "8/8 [==============================] - 1s 158ms/step - loss: 0.0076 - accuracy: 0.9937 - val_loss: 0.0475 - val_accuracy: 0.9833\n",
      "Epoch 27/40\n",
      "8/8 [==============================] - 1s 171ms/step - loss: 0.0036 - accuracy: 0.9979 - val_loss: 0.1563 - val_accuracy: 0.9250\n",
      "Epoch 28/40\n",
      "8/8 [==============================] - 1s 169ms/step - loss: 0.0039 - accuracy: 1.0000 - val_loss: 0.0749 - val_accuracy: 0.9500\n",
      "Epoch 29/40\n",
      "8/8 [==============================] - 1s 169ms/step - loss: 0.0103 - accuracy: 0.9979 - val_loss: 0.0435 - val_accuracy: 0.9833\n",
      "Epoch 30/40\n",
      "8/8 [==============================] - 2s 187ms/step - loss: 0.0030 - accuracy: 1.0000 - val_loss: 0.1188 - val_accuracy: 0.9417\n",
      "Epoch 31/40\n",
      "8/8 [==============================] - 1s 171ms/step - loss: 0.0031 - accuracy: 0.9979 - val_loss: 0.0553 - val_accuracy: 0.9833\n",
      "Epoch 32/40\n",
      "8/8 [==============================] - 2s 190ms/step - loss: 0.0034 - accuracy: 0.9979 - val_loss: 0.0967 - val_accuracy: 0.9583\n",
      "Epoch 33/40\n",
      "8/8 [==============================] - 1s 159ms/step - loss: 0.0037 - accuracy: 0.9979 - val_loss: 0.0570 - val_accuracy: 0.9833\n",
      "Epoch 34/40\n",
      "8/8 [==============================] - 1s 159ms/step - loss: 0.0020 - accuracy: 1.0000 - val_loss: 0.0896 - val_accuracy: 0.9667\n",
      "Epoch 35/40\n",
      "8/8 [==============================] - 1s 162ms/step - loss: 0.0018 - accuracy: 1.0000 - val_loss: 0.0479 - val_accuracy: 0.9833\n",
      "Epoch 36/40\n",
      "8/8 [==============================] - 1s 162ms/step - loss: 0.0020 - accuracy: 1.0000 - val_loss: 0.0519 - val_accuracy: 0.9833\n",
      "Epoch 37/40\n",
      "8/8 [==============================] - 1s 163ms/step - loss: 0.0018 - accuracy: 1.0000 - val_loss: 0.0483 - val_accuracy: 0.9833\n",
      "Epoch 38/40\n",
      "8/8 [==============================] - 1s 179ms/step - loss: 0.0012 - accuracy: 1.0000 - val_loss: 0.0535 - val_accuracy: 0.9833\n",
      "Epoch 39/40\n",
      "8/8 [==============================] - 1s 160ms/step - loss: 0.0015 - accuracy: 1.0000 - val_loss: 0.0702 - val_accuracy: 0.9833\n",
      "Epoch 40/40\n",
      "8/8 [==============================] - 1s 163ms/step - loss: 9.6608e-04 - accuracy: 1.0000 - val_loss: 0.0515 - val_accuracy: 0.9833\n"
     ]
    }
   ],
   "source": [
    "batch_size = 64\n",
    "epochs = 40\n",
    "model.compile(loss=\"sparse_categorical_crossentropy\",\n",
    "             optimizer=\"adam\",\n",
    "             metrics=[\"accuracy\"])\n",
    "history=model.fit(X_train_orig,Y_train_orig,\n",
    "                    batch_size=batch_size,\n",
    "                    epochs=epochs,\n",
    "                    verbose=1,\n",
    "                    validation_split=0.2)"
   ]
  },
  {
   "cell_type": "markdown",
   "metadata": {
    "id": "hFC1nz5_p33b"
   },
   "source": [
    "5) Give the Confusion Matrix and the classification_report"
   ]
  },
  {
   "cell_type": "code",
   "execution_count": 8,
   "metadata": {},
   "outputs": [
    {
     "data": {
      "image/png": "[encoded data removed]",
      "text/plain": [
       "<Figure size 640x480 with 1 Axes>"
      ]
     },
     "metadata": {},
     "output_type": "display_data"
    }
   ],
   "source": [
    "# summarize history for accuracy\n",
    "import matplotlib.pyplot as plt\n",
    "plt.plot(history.history['accuracy'])\n",
    "plt.plot(history.history['val_accuracy'])\n",
    "plt.title('model accuracy')\n",
    "plt.ylabel('accuracy')\n",
    "plt.xlabel('epoch')\n",
    "plt.legend(['train', 'validation'], loc='upper left')\n",
    "plt.show()"
   ]
  },
  {
   "cell_type": "code",
   "execution_count": 9,
   "metadata": {},
   "outputs": [
    {
     "name": "stdout",
     "output_type": "stream",
     "text": [
      "Model: \"sequential_1\"\n",
      "_________________________________________________________________\n",
      " Layer (type)                Output Shape              Param #   \n",
      "=================================================================\n",
      " conv2d_1 (Conv2D)           (None, 64, 64, 32)        4736      \n",
      "                                                                 \n",
      " batch_normalization_1 (Bat  (None, 64, 64, 32)        128       \n",
      " chNormalization)                                                \n",
      "                                                                 \n",
      " max_pooling2d_1 (MaxPoolin  (None, 32, 32, 32)        0         \n",
      " g2D)                                                            \n",
      "                                                                 \n",
      " flatten_1 (Flatten)         (None, 32768)             0         \n",
      "                                                                 \n",
      " dense_1 (Dense)             (None, 2)                 65538     \n",
      "                                                                 \n",
      "=================================================================\n",
      "Total params: 70402 (275.01 KB)\n",
      "Trainable params: 70338 (274.76 KB)\n",
      "Non-trainable params: 64 (256.00 Byte)\n",
      "_________________________________________________________________\n"
     ]
    }
   ],
   "source": [
    "model_2=Sequential()\n",
    "model_2.add(Conv2D(32,(7,7),activation='relu',input_shape=(64, 64, 3),padding='same'))\n",
    "model_2.add(BatchNormalization())\n",
    "model_2.add(MaxPooling2D(2,2))\n",
    "model_2.add(Flatten())\n",
    "model_2.add(Dense(2,activation='softmax'))\n",
    "model_2.summary()"
   ]
  },
  {
   "cell_type": "code",
   "execution_count": 10,
   "metadata": {},
   "outputs": [],
   "source": [
    "batch_size = 32\n",
    "epochs = 40\n",
    "model_2.compile(loss=\"sparse_categorical_crossentropy\",\n",
    "             optimizer=\"adam\",\n",
    "             metrics=[\"accuracy\"])"
   ]
  },
  {
   "cell_type": "code",
   "execution_count": 11,
   "metadata": {
    "scrolled": true
   },
   "outputs": [
    {
     "name": "stdout",
     "output_type": "stream",
     "text": [
      "Epoch 1/40\n",
      "15/15 [==============================] - 2s 123ms/step - loss: 2.8035 - accuracy: 0.6750 - val_loss: 3.5583 - val_accuracy: 0.5833\n",
      "Epoch 2/40\n",
      "15/15 [==============================] - 2s 112ms/step - loss: 0.4577 - accuracy: 0.8750 - val_loss: 2.7936 - val_accuracy: 0.6167\n",
      "Epoch 3/40\n",
      "15/15 [==============================] - 2s 111ms/step - loss: 0.2349 - accuracy: 0.9125 - val_loss: 0.1170 - val_accuracy: 0.9500\n",
      "Epoch 4/40\n",
      "15/15 [==============================] - 2s 123ms/step - loss: 0.1304 - accuracy: 0.9479 - val_loss: 2.4045 - val_accuracy: 0.5167\n",
      "Epoch 5/40\n",
      "15/15 [==============================] - 2s 125ms/step - loss: 0.0709 - accuracy: 0.9833 - val_loss: 1.2323 - val_accuracy: 0.6333\n",
      "Epoch 6/40\n",
      "15/15 [==============================] - 2s 110ms/step - loss: 0.0595 - accuracy: 0.9792 - val_loss: 0.8249 - val_accuracy: 0.7750\n",
      "Epoch 7/40\n",
      "15/15 [==============================] - 2s 111ms/step - loss: 0.1090 - accuracy: 0.9604 - val_loss: 2.1037 - val_accuracy: 0.6583\n",
      "Epoch 8/40\n",
      "15/15 [==============================] - 2s 115ms/step - loss: 0.0658 - accuracy: 0.9833 - val_loss: 0.1253 - val_accuracy: 0.9500\n",
      "Epoch 9/40\n",
      "15/15 [==============================] - 2s 113ms/step - loss: 0.0432 - accuracy: 0.9875 - val_loss: 0.6092 - val_accuracy: 0.8333\n",
      "Epoch 10/40\n",
      "15/15 [==============================] - 2s 135ms/step - loss: 0.0460 - accuracy: 0.9896 - val_loss: 0.1147 - val_accuracy: 0.9583\n",
      "Epoch 11/40\n",
      "15/15 [==============================] - 2s 136ms/step - loss: 0.0473 - accuracy: 0.9792 - val_loss: 0.1771 - val_accuracy: 0.9167\n",
      "Epoch 12/40\n",
      "15/15 [==============================] - 2s 109ms/step - loss: 0.0282 - accuracy: 0.9917 - val_loss: 0.1920 - val_accuracy: 0.9333\n",
      "Epoch 13/40\n",
      "15/15 [==============================] - 2s 113ms/step - loss: 0.0201 - accuracy: 0.9958 - val_loss: 0.0876 - val_accuracy: 0.9750\n",
      "Epoch 14/40\n",
      "15/15 [==============================] - 2s 114ms/step - loss: 0.0351 - accuracy: 0.9937 - val_loss: 0.1383 - val_accuracy: 0.9500\n",
      "Epoch 15/40\n",
      "15/15 [==============================] - 2s 120ms/step - loss: 0.0429 - accuracy: 0.9750 - val_loss: 0.2814 - val_accuracy: 0.8750\n",
      "Epoch 16/40\n",
      "15/15 [==============================] - 2s 111ms/step - loss: 0.0474 - accuracy: 0.9833 - val_loss: 0.3016 - val_accuracy: 0.8917\n",
      "Epoch 17/40\n",
      "15/15 [==============================] - 2s 111ms/step - loss: 0.0550 - accuracy: 0.9812 - val_loss: 5.3395 - val_accuracy: 0.4917\n",
      "Epoch 18/40\n",
      "15/15 [==============================] - 2s 122ms/step - loss: 0.2442 - accuracy: 0.9375 - val_loss: 13.5303 - val_accuracy: 0.4500\n",
      "Epoch 19/40\n",
      "15/15 [==============================] - 2s 113ms/step - loss: 0.1288 - accuracy: 0.9625 - val_loss: 3.9839 - val_accuracy: 0.5083\n",
      "Epoch 20/40\n",
      "15/15 [==============================] - 2s 111ms/step - loss: 0.0793 - accuracy: 0.9771 - val_loss: 0.3052 - val_accuracy: 0.9083\n",
      "Epoch 21/40\n",
      "15/15 [==============================] - 2s 111ms/step - loss: 0.0891 - accuracy: 0.9750 - val_loss: 0.3418 - val_accuracy: 0.9083\n",
      "Epoch 22/40\n",
      "15/15 [==============================] - 2s 112ms/step - loss: 0.0781 - accuracy: 0.9625 - val_loss: 0.0346 - val_accuracy: 0.9833\n",
      "Epoch 23/40\n",
      "15/15 [==============================] - 2s 111ms/step - loss: 0.0644 - accuracy: 0.9792 - val_loss: 0.1698 - val_accuracy: 0.9417\n",
      "Epoch 24/40\n",
      "15/15 [==============================] - 2s 130ms/step - loss: 0.0228 - accuracy: 0.9917 - val_loss: 0.2434 - val_accuracy: 0.9250\n",
      "Epoch 25/40\n",
      "15/15 [==============================] - 2s 125ms/step - loss: 0.0458 - accuracy: 0.9750 - val_loss: 0.3403 - val_accuracy: 0.8833\n",
      "Epoch 26/40\n",
      "15/15 [==============================] - 2s 133ms/step - loss: 0.0375 - accuracy: 0.9854 - val_loss: 0.2012 - val_accuracy: 0.9583\n",
      "Epoch 27/40\n",
      "15/15 [==============================] - 2s 134ms/step - loss: 0.0366 - accuracy: 0.9854 - val_loss: 0.2813 - val_accuracy: 0.9083\n",
      "Epoch 28/40\n",
      "15/15 [==============================] - 2s 120ms/step - loss: 0.0385 - accuracy: 0.9896 - val_loss: 0.4694 - val_accuracy: 0.8583\n",
      "Epoch 29/40\n",
      "15/15 [==============================] - 2s 113ms/step - loss: 0.0525 - accuracy: 0.9750 - val_loss: 0.0621 - val_accuracy: 0.9750\n",
      "Epoch 30/40\n",
      "15/15 [==============================] - 2s 114ms/step - loss: 0.0671 - accuracy: 0.9750 - val_loss: 0.5445 - val_accuracy: 0.8833\n",
      "Epoch 31/40\n",
      "15/15 [==============================] - 2s 119ms/step - loss: 0.0305 - accuracy: 0.9937 - val_loss: 4.3356 - val_accuracy: 0.5167\n",
      "Epoch 32/40\n",
      "15/15 [==============================] - 2s 110ms/step - loss: 0.0383 - accuracy: 0.9833 - val_loss: 0.1893 - val_accuracy: 0.9167\n"
     ]
    }
   ],
   "source": [
    "mycalls=[EarlyStopping(monitor=\"val_loss\",patience=10)]\n",
    "\n",
    "history_2=model_2.fit(X_train_orig,Y_train_orig,\n",
    "                    batch_size=batch_size,\n",
    "                    epochs=epochs,\n",
    "                    verbose=1,\n",
    "                    validation_split=0.2,\n",
    "                    callbacks=mycalls\n",
    "                   )\n"
   ]
  },
  {
   "cell_type": "code",
   "execution_count": 38,
   "metadata": {},
   "outputs": [
    {
     "data": {
      "image/png": "[encoded data removed]",
      "text/plain": [
       "<Figure size 640x480 with 1 Axes>"
      ]
     },
     "metadata": {},
     "output_type": "display_data"
    }
   ],
   "source": [
    "# summarize history for accuracy\n",
    "import matplotlib.pyplot as plt\n",
    "plt.plot(history_2.history['accuracy'])\n",
    "plt.plot(history_2.history['val_accuracy'])\n",
    "plt.title('model accuracy')\n",
    "plt.ylabel('accuracy')\n",
    "plt.xlabel('epoch')\n",
    "plt.legend(['train', 'validation'], loc='upper left')\n",
    "plt.show()"
   ]
  },
  {
   "cell_type": "code",
   "execution_count": 15,
   "metadata": {},
   "outputs": [],
   "source": [
    "train_datagen = ImageDataGenerator(rescale = 1./255,\n",
    "                                   shear_range = 0.2,\n",
    "                                   zoom_range = 0.2,\n",
    "                                   horizontal_flip = True)\n",
    "\n",
    "training_set = train_datagen.fit(X_train_orig)"
   ]
  },
  {
   "cell_type": "code",
   "execution_count": 16,
   "metadata": {
    "scrolled": true
   },
   "outputs": [
    {
     "name": "stdout",
     "output_type": "stream",
     "text": [
      "Epoch 1/40\n",
      "19/19 [==============================] - 3s 144ms/step - loss: 0.7992 - accuracy: 0.7033 - val_loss: 4.2505 - val_accuracy: 0.5000\n",
      "Epoch 2/40\n",
      "19/19 [==============================] - 3s 135ms/step - loss: 0.5274 - accuracy: 0.7817 - val_loss: 4.6086 - val_accuracy: 0.5000\n",
      "Epoch 3/40\n",
      "19/19 [==============================] - 3s 139ms/step - loss: 0.4021 - accuracy: 0.8350 - val_loss: 3.0040 - val_accuracy: 0.5000\n",
      "Epoch 4/40\n",
      "19/19 [==============================] - 3s 136ms/step - loss: 0.5753 - accuracy: 0.7533 - val_loss: 2.5605 - val_accuracy: 0.5000\n",
      "Epoch 5/40\n",
      "19/19 [==============================] - 3s 137ms/step - loss: 0.4291 - accuracy: 0.8150 - val_loss: 3.1145 - val_accuracy: 0.5000\n",
      "Epoch 6/40\n",
      "19/19 [==============================] - 3s 139ms/step - loss: 0.3388 - accuracy: 0.8583 - val_loss: 3.4043 - val_accuracy: 0.5000\n",
      "Epoch 7/40\n",
      "19/19 [==============================] - 3s 138ms/step - loss: 0.3705 - accuracy: 0.8483 - val_loss: 3.4033 - val_accuracy: 0.5000\n",
      "Epoch 8/40\n",
      "19/19 [==============================] - 3s 137ms/step - loss: 0.2578 - accuracy: 0.9083 - val_loss: 3.1785 - val_accuracy: 0.5000\n",
      "Epoch 9/40\n",
      "19/19 [==============================] - 3s 140ms/step - loss: 0.3393 - accuracy: 0.8667 - val_loss: 2.4330 - val_accuracy: 0.5000\n",
      "Epoch 10/40\n",
      "19/19 [==============================] - 3s 140ms/step - loss: 0.2260 - accuracy: 0.8967 - val_loss: 3.1520 - val_accuracy: 0.5000\n",
      "Epoch 11/40\n",
      "19/19 [==============================] - 3s 137ms/step - loss: 0.2410 - accuracy: 0.9117 - val_loss: 2.4617 - val_accuracy: 0.5000\n",
      "Epoch 12/40\n",
      "19/19 [==============================] - 3s 142ms/step - loss: 0.2666 - accuracy: 0.8950 - val_loss: 2.3946 - val_accuracy: 0.5000\n",
      "Epoch 13/40\n",
      "19/19 [==============================] - 3s 142ms/step - loss: 0.3133 - accuracy: 0.8650 - val_loss: 2.2876 - val_accuracy: 0.5000\n",
      "Epoch 14/40\n",
      "19/19 [==============================] - 3s 137ms/step - loss: 0.2266 - accuracy: 0.9167 - val_loss: 2.0567 - val_accuracy: 0.5000\n",
      "Epoch 15/40\n",
      "19/19 [==============================] - 3s 144ms/step - loss: 0.2488 - accuracy: 0.9083 - val_loss: 1.5142 - val_accuracy: 0.5000\n",
      "Epoch 16/40\n",
      "19/19 [==============================] - 3s 150ms/step - loss: 0.2622 - accuracy: 0.9000 - val_loss: 1.9099 - val_accuracy: 0.5000\n",
      "Epoch 17/40\n",
      "19/19 [==============================] - 3s 167ms/step - loss: 0.2008 - accuracy: 0.9250 - val_loss: 1.4644 - val_accuracy: 0.5000\n",
      "Epoch 18/40\n",
      "19/19 [==============================] - 3s 178ms/step - loss: 0.2529 - accuracy: 0.8950 - val_loss: 1.6576 - val_accuracy: 0.5000\n",
      "Epoch 19/40\n",
      "19/19 [==============================] - 3s 159ms/step - loss: 0.2994 - accuracy: 0.8867 - val_loss: 0.9816 - val_accuracy: 0.5083\n",
      "Epoch 20/40\n",
      "19/19 [==============================] - 3s 153ms/step - loss: 0.2596 - accuracy: 0.9017 - val_loss: 1.0119 - val_accuracy: 0.5200\n",
      "Epoch 21/40\n",
      "19/19 [==============================] - 3s 144ms/step - loss: 0.1747 - accuracy: 0.9317 - val_loss: 1.0310 - val_accuracy: 0.5133\n",
      "Epoch 22/40\n",
      "19/19 [==============================] - 3s 139ms/step - loss: 0.1834 - accuracy: 0.9283 - val_loss: 1.6328 - val_accuracy: 0.5000\n",
      "Epoch 23/40\n",
      "19/19 [==============================] - 3s 139ms/step - loss: 0.1671 - accuracy: 0.9283 - val_loss: 1.0137 - val_accuracy: 0.5233\n",
      "Epoch 24/40\n",
      "19/19 [==============================] - 3s 141ms/step - loss: 0.1959 - accuracy: 0.9317 - val_loss: 0.6563 - val_accuracy: 0.6667\n",
      "Epoch 25/40\n",
      "19/19 [==============================] - 3s 140ms/step - loss: 0.2267 - accuracy: 0.9167 - val_loss: 0.6101 - val_accuracy: 0.6783\n",
      "Epoch 26/40\n",
      "19/19 [==============================] - 3s 137ms/step - loss: 0.2293 - accuracy: 0.9183 - val_loss: 0.5456 - val_accuracy: 0.7217\n",
      "Epoch 27/40\n",
      "19/19 [==============================] - 3s 139ms/step - loss: 0.2893 - accuracy: 0.9000 - val_loss: 0.6127 - val_accuracy: 0.6950\n",
      "Epoch 28/40\n",
      "19/19 [==============================] - 3s 155ms/step - loss: 0.2090 - accuracy: 0.9200 - val_loss: 0.6354 - val_accuracy: 0.7300\n",
      "Epoch 29/40\n",
      "19/19 [==============================] - 3s 142ms/step - loss: 0.1926 - accuracy: 0.9283 - val_loss: 0.4010 - val_accuracy: 0.8233\n",
      "Epoch 30/40\n",
      "19/19 [==============================] - 3s 135ms/step - loss: 0.1870 - accuracy: 0.9400 - val_loss: 0.5167 - val_accuracy: 0.7500\n",
      "Epoch 31/40\n",
      "19/19 [==============================] - 3s 140ms/step - loss: 0.1732 - accuracy: 0.9367 - val_loss: 0.6012 - val_accuracy: 0.7083\n",
      "Epoch 32/40\n",
      "19/19 [==============================] - 3s 138ms/step - loss: 0.1512 - accuracy: 0.9317 - val_loss: 0.5137 - val_accuracy: 0.7617\n",
      "Epoch 33/40\n",
      "19/19 [==============================] - 3s 138ms/step - loss: 0.1381 - accuracy: 0.9533 - val_loss: 0.3824 - val_accuracy: 0.8317\n",
      "Epoch 34/40\n",
      "19/19 [==============================] - 3s 157ms/step - loss: 0.1684 - accuracy: 0.9433 - val_loss: 0.4550 - val_accuracy: 0.8083\n",
      "Epoch 35/40\n",
      "19/19 [==============================] - 3s 156ms/step - loss: 0.1711 - accuracy: 0.9417 - val_loss: 0.6617 - val_accuracy: 0.7000\n",
      "Epoch 36/40\n",
      "19/19 [==============================] - 3s 149ms/step - loss: 0.1354 - accuracy: 0.9567 - val_loss: 0.6092 - val_accuracy: 0.7733\n",
      "Epoch 37/40\n",
      "19/19 [==============================] - 3s 162ms/step - loss: 0.1072 - accuracy: 0.9550 - val_loss: 0.8366 - val_accuracy: 0.6467\n",
      "Epoch 38/40\n",
      "19/19 [==============================] - 3s 151ms/step - loss: 0.1415 - accuracy: 0.9517 - val_loss: 0.3093 - val_accuracy: 0.8667\n",
      "Epoch 39/40\n",
      "19/19 [==============================] - 3s 166ms/step - loss: 0.2393 - accuracy: 0.9217 - val_loss: 0.7314 - val_accuracy: 0.7017\n",
      "Epoch 40/40\n",
      "19/19 [==============================] - 3s 150ms/step - loss: 0.2444 - accuracy: 0.9117 - val_loss: 0.3295 - val_accuracy: 0.8583\n"
     ]
    }
   ],
   "source": [
    "model.compile(loss=\"sparse_categorical_crossentropy\",\n",
    "             optimizer=\"adam\",\n",
    "             metrics=[\"accuracy\"])\n",
    "hist=model.fit(train_datagen.flow(X_train_orig, Y_train_orig, batch_size=batch_size),\n",
    "          epochs=epochs,         \n",
    "          validation_data=train_datagen.flow(X_train_orig, Y_train_orig,\n",
    "         batch_size=8))"
   ]
  },
  {
   "cell_type": "code",
   "execution_count": null,
   "metadata": {},
   "outputs": [],
   "source": []
  }
 ],
 "metadata": {
  "colab": {
   "provenance": []
  },
  "kernelspec": {
   "display_name": "Python 3 (ipykernel)",
   "language": "python",
   "name": "python3"
  },
  "language_info": {
   "codemirror_mode": {
    "name": "ipython",
    "version": 3
   },
   "file_extension": ".py",
   "mimetype": "text/x-python",
   "name": "python",
   "nbconvert_exporter": "python",
   "pygments_lexer": "ipython3",
   "version": "3.11.8"
  }
 },
 "nbformat": 4,
 "nbformat_minor": 1
}
